{
 "cells": [
  {
   "cell_type": "code",
   "execution_count": 1,
   "metadata": {},
   "outputs": [],
   "source": [
    "# Dependencies\n",
    "from bs4 import BeautifulSoup\n",
    "import requests\n",
    "import pymongo\n",
    "import pandas as pd\n",
    "\n",
    "from splinter import Browser\n",
    "from webdriver_manager.chrome import ChromeDriverManager"
   ]
  },
  {
   "cell_type": "code",
   "execution_count": 2,
   "metadata": {},
   "outputs": [],
   "source": [
    "executable_path = {'executable_path': ChromeDriverManager().install()}\n",
    "browser = Browser('chrome', **executable_path, headless=False)"
   ]
  },
  {
   "cell_type": "code",
   "execution_count": 3,
   "metadata": {},
   "outputs": [],
   "source": [
    "# URL of page to be scraped\n",
    "url = 'https://redplanetscience.com'\n",
    "# # Retrieve page with the requests module\n",
    "browser.visit(url)"
   ]
  },
  {
   "cell_type": "code",
   "execution_count": 4,
   "metadata": {},
   "outputs": [],
   "source": [
    "#Set an HTML object\n",
    "html = browser.html\n",
    "\n",
    "# Parse HTML with Beautiful Soup\n",
    "soup = BeautifulSoup(html, 'html.parser')\n",
    "\n",
    "#container class houses all news articles on this page\n",
    "news = soup.find('div', class_ = 'container')\n",
    "\n",
    "#narrowing down, querying each individual article\n",
    "articles = news.find_all(class_ = 'row')\n",
    "\n"
   ]
  },
  {
   "cell_type": "code",
   "execution_count": null,
   "metadata": {},
   "outputs": [],
   "source": [
    "# Examine the results and look for a ul with the class 'querylist'\n",
    "result = soup.find('div', id = 'news', class_ = 'container')\n",
    "\n",
    "# Retrieve each list item\n",
    "articles = result.find_all(class_='row')\n",
    "for query in result:\n",
    "    print(query)"
   ]
  },
  {
   "cell_type": "code",
   "execution_count": 6,
   "metadata": {},
   "outputs": [
    {
     "name": "stdout",
     "output_type": "stream",
     "text": [
      "With Mars Methane Mystery Unsolved, Curiosity Serves Scientists a New One: Oxygen\n",
      "For the first time in the history of space exploration, scientists have measured the seasonal changes in the gases that fill the air directly above the surface of Gale Crater on Mars. \n",
      "---\n",
      "NASA's New Mars Rover Will Use X-Rays to Hunt Fossils\n",
      "PIXL, an instrument on the end of the Perseverance rover's arm, will search for chemical fingerprints left by ancient microbes.\n",
      "---\n",
      "MAVEN Maps Electric Currents around Mars that are Fundamental to Atmospheric Loss\n",
      "Five years after NASA’s MAVEN spacecraft entered into orbit around Mars, data from the mission has led to the creation of a map of electric current systems in the Martian atmosphere.\n",
      "---\n",
      "Mars 2020 Stands on Its Own Six Wheels\n",
      "In time-lapse video, taken at JPL, captures the first time NASA's Mars 2020 rover carries its full weight on its legs and wheels.\n",
      "---\n",
      "NASA Wins 4 Webbys, 4 People's Voice Awards\n",
      "Winners include the JPL-managed \"Send Your Name to Mars\" campaign, NASA's Global Climate Change website and Solar System Interactive.\n",
      "---\n",
      "From JPL's Mailroom to Mars and Beyond\n",
      "Bill Allen has thrived as the mechanical systems design lead for three Mars rover missions, but he got his start as a teenager sorting letters for the NASA center.\n",
      "---\n",
      "Heat and Dust Help Launch Martian Water Into Space, Scientists Find\n",
      "Scientists using an instrument aboard NASA’s Mars Atmosphere and Volatile EvolutioN, or MAVEN, spacecraft have discovered that water vapor near the surface of the Red Planet is lofted higher into the atmosphere than anyone expected was possible. \n",
      "---\n",
      "NASA Updates Mars 2020 Mission Environmental Review\n",
      "NASA and the Department of Energy have completed a more detailed risk analysis for the Mars 2020 rover launch from Florida.\n",
      "---\n",
      "Screening Soon: 'The Pathfinders' Trains Lens on Mars\n",
      "With the Mars 2020 mission ramping up, the documentary — the first of four about past JPL missions to the Red Planet to be shown at Caltech — tells a gripping backstory.\n",
      "---\n",
      "Curiosity Mars Rover's Summer Road Trip Has Begun\n",
      "After more than a year in the \"clay-bearing unit,\" Curiosity is making a mile-long journey around some deep sand so that it can explore higher up Mount Sharp.\n",
      "---\n",
      "The MarCO Mission Comes to an End\n",
      "The pair of briefcase-sized satellites made history when they sailed past Mars in 2019.\n",
      "---\n",
      "7 Things to Know About the Mars 2020 Perseverance Rover Mission\n",
      "NASA's next rover to the Red Planet is slated to launch no earlier than July 30. These highlights will get you up to speed on the ambitious mission.\n",
      "---\n",
      "5 Hidden Gems Are Riding Aboard NASA's Perseverance Rover\n",
      "The symbols, mottos, and small objects added to the agency's newest Mars rover serve a variety of purposes, from functional to decorative.\n",
      "---\n",
      "NASA Invites Students to Name Mars 2020 Rover\n",
      "Through Nov. 1, K-12 students in the U.S. are encouraged to enter an essay contest to name NASA's next Mars rover.\n",
      "---\n",
      "Robotic Toolkit Added to NASA's Mars 2020 Rover\n",
      "The bit carousel, which lies at the heart of the rover's Sample Caching System, is now aboard NASA's newest rover. \n",
      "---\n",
      "\n",
      "\n",
      "\n",
      "Boop. Scraping Complete\n"
     ]
    }
   ],
   "source": [
    "#https://stackoverflow.com/questions/8276113/what-is-the-best-approach-to-search-some-text-in-body-html\n",
    "#Week 12, Day 2, Activity 08\n",
    "\n",
    "articles = result.find_all(class_ = 'row')\n",
    "title_list = []\n",
    "article_preview_list = []\n",
    "\n",
    "for entry in articles:\n",
    "    try:\n",
    "        #scrapes title of article from the \"content_title\" section.\n",
    "        title_query = entry.find('div', class_ = 'content_title')\n",
    "        #scrapes text since it is the only datatype in the body.\n",
    "        title_body = title_query.text\n",
    "        #appends to the title_list list.\n",
    "        title_list.append(title_body)\n",
    "\n",
    "        #repeats process for article text.\n",
    "        article_query = entry.find('div', class_ = 'article_teaser_body')\n",
    "        article_body = article_query.text   \n",
    "        article_preview_list.append(article_body) \n",
    "\n",
    "        print(title_body)\n",
    "        print(article_body)\n",
    "        \n",
    "        print(\"---\")\n",
    "\n",
    "    except:\n",
    "        print(\"Scraping Error\") \n",
    "        #only prints if there is an entry that doesn't follow this convention.\n",
    "\n",
    "print(\"\\n\\n\")\n",
    "print(\"Boop. Scraping Complete\")\n"
   ]
  },
  {
   "cell_type": "code",
   "execution_count": 7,
   "metadata": {},
   "outputs": [],
   "source": [
    "browser.quit()"
   ]
  },
  {
   "cell_type": "code",
   "execution_count": 8,
   "metadata": {},
   "outputs": [
    {
     "name": "stdout",
     "output_type": "stream",
     "text": [
      "[{'title': 'With Mars Methane Mystery Unsolved, Curiosity Serves Scientists a New One: Oxygen', 'article': 'For the first time in the history of space exploration, scientists have measured the seasonal changes in the gases that fill the air directly above the surface of Gale Crater on Mars. '}, {'title': \"NASA's New Mars Rover Will Use X-Rays to Hunt Fossils\", 'article': \"PIXL, an instrument on the end of the Perseverance rover's arm, will search for chemical fingerprints left by ancient microbes.\"}, {'title': 'MAVEN Maps Electric Currents around Mars that are Fundamental to Atmospheric Loss', 'article': 'Five years after NASA’s MAVEN spacecraft entered into orbit around Mars, data from the mission has led to the creation of a map of electric current systems in the Martian atmosphere.'}, {'title': 'Mars 2020 Stands on Its Own Six Wheels', 'article': \"In time-lapse video, taken at JPL, captures the first time NASA's Mars 2020 rover carries its full weight on its legs and wheels.\"}, {'title': \"NASA Wins 4 Webbys, 4 People's Voice Awards\", 'article': 'Winners include the JPL-managed \"Send Your Name to Mars\" campaign, NASA\\'s Global Climate Change website and Solar System Interactive.'}, {'title': \"From JPL's Mailroom to Mars and Beyond\", 'article': 'Bill Allen has thrived as the mechanical systems design lead for three Mars rover missions, but he got his start as a teenager sorting letters for the NASA center.'}, {'title': 'Heat and Dust Help Launch Martian Water Into Space, Scientists Find', 'article': 'Scientists using an instrument aboard NASA’s Mars Atmosphere and Volatile EvolutioN, or MAVEN, spacecraft have discovered that water vapor near the surface of the Red Planet is lofted higher into the atmosphere than anyone expected was possible. '}, {'title': 'NASA Updates Mars 2020 Mission Environmental Review', 'article': 'NASA and the Department of Energy have completed a more detailed risk analysis for the Mars 2020 rover launch from Florida.'}, {'title': \"Screening Soon: 'The Pathfinders' Trains Lens on Mars\", 'article': 'With the Mars 2020 mission ramping up, the documentary — the first of four about past JPL missions to the Red Planet to be shown at Caltech — tells a gripping backstory.'}, {'title': \"Curiosity Mars Rover's Summer Road Trip Has Begun\", 'article': 'After more than a year in the \"clay-bearing unit,\" Curiosity is making a mile-long journey around some deep sand so that it can explore higher up Mount Sharp.'}, {'title': 'The MarCO Mission Comes to an End', 'article': 'The pair of briefcase-sized satellites made history when they sailed past Mars in 2019.'}, {'title': '7 Things to Know About the Mars 2020 Perseverance Rover Mission', 'article': \"NASA's next rover to the Red Planet is slated to launch no earlier than July 30. These highlights will get you up to speed on the ambitious mission.\"}, {'title': \"5 Hidden Gems Are Riding Aboard NASA's Perseverance Rover\", 'article': \"The symbols, mottos, and small objects added to the agency's newest Mars rover serve a variety of purposes, from functional to decorative.\"}, {'title': 'NASA Invites Students to Name Mars 2020 Rover', 'article': \"Through Nov. 1, K-12 students in the U.S. are encouraged to enter an essay contest to name NASA's next Mars rover.\"}, {'title': \"Robotic Toolkit Added to NASA's Mars 2020 Rover\", 'article': \"The bit carousel, which lies at the heart of the rover's Sample Caching System, is now aboard NASA's newest rover. \"}]\n"
     ]
    }
   ],
   "source": [
    "#Store all the dictionaries in a Python list. Print the list in your notebook\n",
    "#Week 12, Day 2, Activity 08\n",
    "#https://stackoverflow.com/questions/21930705/zip-dictionary-of-lists-in-python\n",
    "#creating list of two dictionaries: first dict is filled with titles, second dict is filled with article previews.\n",
    "\n",
    "mars_list = [{'title': i, 'article':j} for i, j in zip(title_list, article_preview_list)]\n",
    "print(mars_list)"
   ]
  }
 ],
 "metadata": {
  "kernelspec": {
   "display_name": "Python 3.9.12 ('base')",
   "language": "python",
   "name": "python3"
  },
  "language_info": {
   "codemirror_mode": {
    "name": "ipython",
    "version": 3
   },
   "file_extension": ".py",
   "mimetype": "text/x-python",
   "name": "python",
   "nbconvert_exporter": "python",
   "pygments_lexer": "ipython3",
   "version": "3.9.12"
  },
  "orig_nbformat": 4,
  "vscode": {
   "interpreter": {
    "hash": "07b9bce58800e0c6bedceed095b1f0040fd5a37e90a2446371ba89fcb226324d"
   }
  }
 },
 "nbformat": 4,
 "nbformat_minor": 2
}
